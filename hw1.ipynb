{
 "cells": [
  {
   "cell_type": "code",
   "execution_count": null,
   "metadata": {},
   "outputs": [],
   "source": []
  },
  {
   "cell_type": "markdown",
   "metadata": {},
   "source": [
    "**Задача 1**\n",
    "На складе лежат разные фрукты в разном количестве.\n",
    "Нужно написать функцию, которая на вход принимает любое количество названий фруктов и их количество, а возвращает общее количество фруктов на складе\n",
    "\n"
   ]
  },
  {
   "cell_type": "code",
   "execution_count": 2,
   "metadata": {},
   "outputs": [
    {
     "name": "stdout",
     "output_type": "stream",
     "text": [
      "Fruit apple in quality 15 psc\n",
      "Fruit orange in quality 25 psc\n",
      "Fruit lemon in quality 7 psc\n",
      "count of fruits number: 47\n"
     ]
    }
   ],
   "source": [
    "def fruits(**kwargs):\n",
    "    {print(f\"Fruit {name} in quality {values} psc\") for name, values in kwargs.items()}\n",
    "    return print(f'count of fruits number: {sum(kwargs.values())}')\n",
    "fruits(\n",
    "    apple = 15,\n",
    "    orange = 25,\n",
    "    lemon = 7\n",
    ")"
   ]
  },
  {
   "cell_type": "markdown",
   "metadata": {},
   "source": [
    "**Задача 2**\n",
    "Дан список с затратами на рекламу. Но в данных есть ошибки, некоторые затраты имеют отрицательную величину. Удалите такие значения из списка и посчитайте суммарные затраты\n",
    "[100, 125, -90, 345, 655, -1, 0, 200]\n",
    "Используйте list comprehensions"
   ]
  },
  {
   "cell_type": "code",
   "execution_count": 3,
   "metadata": {},
   "outputs": [
    {
     "name": "stdout",
     "output_type": "stream",
     "text": [
      "remove of negative numbers : [100, 120, 345, 0, 200]\n",
      "sum_of_values: 765\n"
     ]
    }
   ],
   "source": [
    "list_1 = [100, 120, -90, 345 ,-1, 0 ,200]\n",
    "\n",
    "for s in list_1:\n",
    "    if s<0:\n",
    "        list_1.remove(s)\n",
    "print(f\"remove of negative numbers : {list_1}\")\n",
    "       \n",
    "sum_of_values = sum(list_1)\n",
    "print(f\"sum_of_values: {sum_of_values}\")"
   ]
  }
 ],
 "metadata": {
  "kernelspec": {
   "display_name": "Python 3",
   "language": "python",
   "name": "python3"
  },
  "language_info": {
   "codemirror_mode": {
    "name": "ipython",
    "version": 3
   },
   "file_extension": ".py",
   "mimetype": "text/x-python",
   "name": "python",
   "nbconvert_exporter": "python",
   "pygments_lexer": "ipython3",
   "version": "3.11.3"
  }
 },
 "nbformat": 4,
 "nbformat_minor": 2
}
